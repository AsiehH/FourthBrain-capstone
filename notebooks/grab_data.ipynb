{
 "cells": [
  {
   "cell_type": "markdown",
   "id": "d6ab3e62",
   "metadata": {},
   "source": [
    "Author: Wolfgang Black\n",
    "Data Modified: 6/26/22\n",
    "\n",
    "Purpose: grab data from our training directory and save it to a new directory. I'm doing this because I don't want to run the model on all 83k+ images on my personal machine while developing our simclr method"
   ]
  },
  {
   "cell_type": "code",
   "execution_count": 12,
   "id": "4d07849f",
   "metadata": {},
   "outputs": [],
   "source": [
    "import os\n",
    "import sys\n",
    "import random\n",
    "import shutil"
   ]
  },
  {
   "cell_type": "code",
   "execution_count": 2,
   "id": "ab627ca3",
   "metadata": {},
   "outputs": [],
   "source": [
    "## In this cell, grab the directory where the data lives for both training and test,\n",
    "## as well as the subdirectories (labels) in each\n",
    "data_dir = './../fourthbrain-capstone/data/raw/OCT2017/'\n",
    "\n",
    "training_dir = data_dir+'train/'\n",
    "test_dir = data_dir + \"test/\"\n",
    "\n",
    "labels = [i for i in os.listdir(training_dir) if '.' not in i]"
   ]
  },
  {
   "cell_type": "code",
   "execution_count": 3,
   "id": "6989dbbf",
   "metadata": {},
   "outputs": [
    {
     "name": "stdout",
     "output_type": "stream",
     "text": [
      "there are 37205 images in the CNV labels\n",
      "there are 11343 images in the DME labels\n",
      "there are 8614 images in the DRUSEN labels\n",
      "there are 26303 images in the NORMAL labels\n"
     ]
    }
   ],
   "source": [
    "train_count = 0\n",
    "test_count = 0 \n",
    "\n",
    "##Verify our total number of images in each class, we should have ~83k images\n",
    "for label in labels:\n",
    "    count = len(os.listdir(training_dir+label))\n",
    "    train_count += count\n",
    "    print(f\"there are {count} images in the {label} labels\")\n",
    "    test_count += len(os.listdir(test_dir+label))"
   ]
  },
  {
   "cell_type": "code",
   "execution_count": 4,
   "id": "5f81debc",
   "metadata": {},
   "outputs": [
    {
     "name": "stdout",
     "output_type": "stream",
     "text": [
      "there are 83465 training total examples\n",
      "there are 1001 test total examples\n"
     ]
    }
   ],
   "source": [
    "print(f\"there are {train_count} training total examples\")\n",
    "print(f\"there are {test_count} test total examples\")"
   ]
  },
  {
   "cell_type": "markdown",
   "id": "a4b84ad4",
   "metadata": {},
   "source": [
    "### New Directory:\n",
    "The cell below is to create a new data directory where we'll save our 20k images. The goal is to grab 5k per class, and save them to a single dir to serve as our unlabeled directory. If we were doing the full image set, this is unnecessary as we can use the <b>labels = None</b> argument in the <b>tf.keras.utils.image_dataset_from_directory</b> command"
   ]
  },
  {
   "cell_type": "code",
   "execution_count": 45,
   "id": "6344b050",
   "metadata": {},
   "outputs": [
    {
     "data": {
      "text/plain": [
       "['limited_data', '.DS_Store', 'test', 'unlabeled_data_20k_images', 'train']"
      ]
     },
     "execution_count": 45,
     "metadata": {},
     "output_type": "execute_result"
    }
   ],
   "source": [
    "##verify directory is where we want to be\n",
    "# os.listdir('../fourthbrain-capstone/data/raw/OCT2017')\n",
    "\n",
    "##Make directory\n",
    "# os.mkdir('../fourthbrain-capstone/data/raw/OCT2017/unlabeled_data_20k_images')\n",
    "\n",
    "## set unlabeled path\n",
    "# unlabeled_dir = '../fourthbrain-capstone/data/raw/OCT2017/unlabeled_data_20k_images'\n",
    "\n",
    "##verify unlabeled_dir exists\n",
    "# os.listdir('../fourthbrain-capstone/data/raw/OCT2017')"
   ]
  },
  {
   "cell_type": "markdown",
   "id": "e37361e8",
   "metadata": {},
   "source": [
    "### save data\n",
    "Now that we have our unlabeled_dir we need to save off images. We utilize a random seed and random sample to grab random indicies across the number of files per class subdirectory. because we use <b> random.sample</b> to create an indicies list, we are sampling WITHOUT replacement to get 5k unique images. "
   ]
  },
  {
   "cell_type": "code",
   "execution_count": 46,
   "id": "269d6165",
   "metadata": {},
   "outputs": [],
   "source": [
    "random.seed(1234)\n",
    "for label in labels:\n",
    "        temp_dir = training_dir+label+'/'\n",
    "        count = len(os.listdir(temp_dir))\n",
    "        indices = random.sample(range(0,count), 5000)\n",
    "        files = [os.listdir(temp_dir)[i] for i in indices]\n",
    "        for file in files:\n",
    "            temp_f = temp_dir+file\n",
    "            shutil.copy(temp_f,unlabeled_dir)\n",
    "    "
   ]
  },
  {
   "cell_type": "markdown",
   "id": "0a284ef3",
   "metadata": {},
   "source": [
    "Below, verify we have 2k images in unlabeled_dir"
   ]
  },
  {
   "cell_type": "code",
   "execution_count": 47,
   "id": "7d491946",
   "metadata": {},
   "outputs": [
    {
     "data": {
      "text/plain": [
       "20000"
      ]
     },
     "execution_count": 47,
     "metadata": {},
     "output_type": "execute_result"
    }
   ],
   "source": [
    "len(os.listdir(unlabeled_dir))"
   ]
  },
  {
   "cell_type": "code",
   "execution_count": null,
   "id": "478ffd09",
   "metadata": {},
   "outputs": [],
   "source": []
  }
 ],
 "metadata": {
  "kernelspec": {
   "display_name": "Python 3 (ipykernel)",
   "language": "python",
   "name": "python3"
  },
  "language_info": {
   "codemirror_mode": {
    "name": "ipython",
    "version": 3
   },
   "file_extension": ".py",
   "mimetype": "text/x-python",
   "name": "python",
   "nbconvert_exporter": "python",
   "pygments_lexer": "ipython3",
   "version": "3.9.7"
  }
 },
 "nbformat": 4,
 "nbformat_minor": 5
}
