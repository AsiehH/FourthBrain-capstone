{
 "cells": [
  {
   "cell_type": "code",
   "execution_count": 2,
   "metadata": {},
   "outputs": [],
   "source": [
    "import os\n",
    "import pandas as pd\n",
    "import matplotlib.pyplot as plt\n",
    "import seaborn as sns\n",
    "\n",
    "from exif import Image"
   ]
  },
  {
   "cell_type": "code",
   "execution_count": 3,
   "metadata": {},
   "outputs": [],
   "source": [
    "BASE_DATA_PATH = '../data/raw/OCT2017/'\n",
    "TRAIN_BASE_PATH = '../data/raw/OCT2017/train/'\n",
    "TEST_BASE_PATH = '../data/raw/OCT2017/test/'"
   ]
  },
  {
   "cell_type": "markdown",
   "metadata": {},
   "source": [
    "## Create Base Data"
   ]
  },
  {
   "cell_type": "markdown",
   "metadata": {},
   "source": [
    "Write a program which imports all the metadata about the OCT files as a Pandas DataFrame"
   ]
  },
  {
   "cell_type": "code",
   "execution_count": 4,
   "metadata": {},
   "outputs": [
    {
     "name": "stdout",
     "output_type": "stream",
     "text": [
      "train/CNV contains 37205 files\n",
      "train/DME contains 11348 files\n",
      "train/DRUSEN contains 8616 files\n",
      "train/NORMAL contains 26315 files\n",
      "test/CNV contains 250 files\n",
      "test/DME contains 250 files\n",
      "test/DRUSEN contains 250 files\n",
      "test/NORMAL contains 250 files\n"
     ]
    },
    {
     "data": {
      "text/html": [
       "<div>\n",
       "<style scoped>\n",
       "    .dataframe tbody tr th:only-of-type {\n",
       "        vertical-align: middle;\n",
       "    }\n",
       "\n",
       "    .dataframe tbody tr th {\n",
       "        vertical-align: top;\n",
       "    }\n",
       "\n",
       "    .dataframe thead th {\n",
       "        text-align: right;\n",
       "    }\n",
       "</style>\n",
       "<table border=\"1\" class=\"dataframe\">\n",
       "  <thead>\n",
       "    <tr style=\"text-align: right;\">\n",
       "      <th></th>\n",
       "      <th>filename</th>\n",
       "      <th>path</th>\n",
       "      <th>type</th>\n",
       "      <th>disease</th>\n",
       "      <th>pat_id</th>\n",
       "      <th>img_id</th>\n",
       "      <th>filetype</th>\n",
       "    </tr>\n",
       "  </thead>\n",
       "  <tbody>\n",
       "    <tr>\n",
       "      <th>0</th>\n",
       "      <td>CNV-5557306-155.jpeg</td>\n",
       "      <td>/OCT2017/train/CNV</td>\n",
       "      <td>train</td>\n",
       "      <td>CNV</td>\n",
       "      <td>5557306</td>\n",
       "      <td>155</td>\n",
       "      <td>jpeg</td>\n",
       "    </tr>\n",
       "    <tr>\n",
       "      <th>1</th>\n",
       "      <td>CNV-163081-153.jpeg</td>\n",
       "      <td>/OCT2017/train/CNV</td>\n",
       "      <td>train</td>\n",
       "      <td>CNV</td>\n",
       "      <td>163081</td>\n",
       "      <td>153</td>\n",
       "      <td>jpeg</td>\n",
       "    </tr>\n",
       "    <tr>\n",
       "      <th>2</th>\n",
       "      <td>CNV-3537912-28.jpeg</td>\n",
       "      <td>/OCT2017/train/CNV</td>\n",
       "      <td>train</td>\n",
       "      <td>CNV</td>\n",
       "      <td>3537912</td>\n",
       "      <td>28</td>\n",
       "      <td>jpeg</td>\n",
       "    </tr>\n",
       "    <tr>\n",
       "      <th>3</th>\n",
       "      <td>CNV-7159021-147.jpeg</td>\n",
       "      <td>/OCT2017/train/CNV</td>\n",
       "      <td>train</td>\n",
       "      <td>CNV</td>\n",
       "      <td>7159021</td>\n",
       "      <td>147</td>\n",
       "      <td>jpeg</td>\n",
       "    </tr>\n",
       "    <tr>\n",
       "      <th>4</th>\n",
       "      <td>CNV-8087608-23.jpeg</td>\n",
       "      <td>/OCT2017/train/CNV</td>\n",
       "      <td>train</td>\n",
       "      <td>CNV</td>\n",
       "      <td>8087608</td>\n",
       "      <td>23</td>\n",
       "      <td>jpeg</td>\n",
       "    </tr>\n",
       "    <tr>\n",
       "      <th>...</th>\n",
       "      <td>...</td>\n",
       "      <td>...</td>\n",
       "      <td>...</td>\n",
       "      <td>...</td>\n",
       "      <td>...</td>\n",
       "      <td>...</td>\n",
       "      <td>...</td>\n",
       "    </tr>\n",
       "    <tr>\n",
       "      <th>84479</th>\n",
       "      <td>NORMAL-5246808-1.jpeg</td>\n",
       "      <td>/OCT2017/test/NORMAL</td>\n",
       "      <td>test</td>\n",
       "      <td>NORMAL</td>\n",
       "      <td>5246808</td>\n",
       "      <td>1</td>\n",
       "      <td>jpeg</td>\n",
       "    </tr>\n",
       "    <tr>\n",
       "      <th>84480</th>\n",
       "      <td>NORMAL-2733663-1.jpeg</td>\n",
       "      <td>/OCT2017/test/NORMAL</td>\n",
       "      <td>test</td>\n",
       "      <td>NORMAL</td>\n",
       "      <td>2733663</td>\n",
       "      <td>1</td>\n",
       "      <td>jpeg</td>\n",
       "    </tr>\n",
       "    <tr>\n",
       "      <th>84481</th>\n",
       "      <td>NORMAL-557437-2.jpeg</td>\n",
       "      <td>/OCT2017/test/NORMAL</td>\n",
       "      <td>test</td>\n",
       "      <td>NORMAL</td>\n",
       "      <td>557437</td>\n",
       "      <td>2</td>\n",
       "      <td>jpeg</td>\n",
       "    </tr>\n",
       "    <tr>\n",
       "      <th>84482</th>\n",
       "      <td>NORMAL-3059523-1.jpeg</td>\n",
       "      <td>/OCT2017/test/NORMAL</td>\n",
       "      <td>test</td>\n",
       "      <td>NORMAL</td>\n",
       "      <td>3059523</td>\n",
       "      <td>1</td>\n",
       "      <td>jpeg</td>\n",
       "    </tr>\n",
       "    <tr>\n",
       "      <th>84483</th>\n",
       "      <td>NORMAL-3361560-1.jpeg</td>\n",
       "      <td>/OCT2017/test/NORMAL</td>\n",
       "      <td>test</td>\n",
       "      <td>NORMAL</td>\n",
       "      <td>3361560</td>\n",
       "      <td>1</td>\n",
       "      <td>jpeg</td>\n",
       "    </tr>\n",
       "  </tbody>\n",
       "</table>\n",
       "<p>84484 rows × 7 columns</p>\n",
       "</div>"
      ],
      "text/plain": [
       "                    filename                  path   type disease   pat_id  \\\n",
       "0       CNV-5557306-155.jpeg    /OCT2017/train/CNV  train     CNV  5557306   \n",
       "1        CNV-163081-153.jpeg    /OCT2017/train/CNV  train     CNV   163081   \n",
       "2        CNV-3537912-28.jpeg    /OCT2017/train/CNV  train     CNV  3537912   \n",
       "3       CNV-7159021-147.jpeg    /OCT2017/train/CNV  train     CNV  7159021   \n",
       "4        CNV-8087608-23.jpeg    /OCT2017/train/CNV  train     CNV  8087608   \n",
       "...                      ...                   ...    ...     ...      ...   \n",
       "84479  NORMAL-5246808-1.jpeg  /OCT2017/test/NORMAL   test  NORMAL  5246808   \n",
       "84480  NORMAL-2733663-1.jpeg  /OCT2017/test/NORMAL   test  NORMAL  2733663   \n",
       "84481   NORMAL-557437-2.jpeg  /OCT2017/test/NORMAL   test  NORMAL   557437   \n",
       "84482  NORMAL-3059523-1.jpeg  /OCT2017/test/NORMAL   test  NORMAL  3059523   \n",
       "84483  NORMAL-3361560-1.jpeg  /OCT2017/test/NORMAL   test  NORMAL  3361560   \n",
       "\n",
       "      img_id filetype  \n",
       "0        155     jpeg  \n",
       "1        153     jpeg  \n",
       "2         28     jpeg  \n",
       "3        147     jpeg  \n",
       "4         23     jpeg  \n",
       "...      ...      ...  \n",
       "84479      1     jpeg  \n",
       "84480      1     jpeg  \n",
       "84481      2     jpeg  \n",
       "84482      1     jpeg  \n",
       "84483      1     jpeg  \n",
       "\n",
       "[84484 rows x 7 columns]"
      ]
     },
     "execution_count": 4,
     "metadata": {},
     "output_type": "execute_result"
    }
   ],
   "source": [
    "parents = ['train', 'test']\n",
    "children = ['CNV', 'DME', 'DRUSEN', 'NORMAL']\n",
    "\n",
    "# create a base dataframe from the directory items\n",
    "names_cache = []\n",
    "for p in parents:\n",
    "    for c in children:\n",
    "        files = os.listdir(os.path.join(BASE_DATA_PATH, p, c))\n",
    "        instance_type = [ p for i in range(len(files)) ]\n",
    "        path = [ f'/OCT2017/{p}/{c}' for i in range(len(files))]\n",
    "        print(f'{p}/{c} contains {len(files)} files')\n",
    "        names_cache.extend(list(zip(files, path, instance_type)))\n",
    "\n",
    "oct_df = pd.DataFrame(names_cache, columns=['filename', 'path', 'type'])\n",
    "\n",
    "# split filename into features\n",
    "oct_df['disease'] = oct_df['filename'].apply(lambda f: f.split('-')[0])\n",
    "oct_df['pat_id'] = oct_df['filename'].apply(lambda f: f.split('-')[1])\n",
    "oct_df['img_id'] = oct_df['filename'].apply(lambda f: f.split('-')[2].split('.')[0])\n",
    "oct_df['filetype'] = oct_df['filename'].apply(lambda f: f.split('.')[1])\n",
    "oct_df"
   ]
  },
  {
   "cell_type": "markdown",
   "metadata": {},
   "source": [
    "## Check for Duplicate Data"
   ]
  },
  {
   "cell_type": "markdown",
   "metadata": {},
   "source": [
    "Do some investigative queries:\n",
    "- duplicate data"
   ]
  },
  {
   "cell_type": "code",
   "execution_count": 5,
   "metadata": {},
   "outputs": [
    {
     "data": {
      "text/plain": [
       "83605"
      ]
     },
     "execution_count": 5,
     "metadata": {},
     "output_type": "execute_result"
    }
   ],
   "source": [
    "len(oct_df['filename'].unique())"
   ]
  },
  {
   "cell_type": "markdown",
   "metadata": {},
   "source": [
    "Looks to be 879 duplicate instances"
   ]
  },
  {
   "cell_type": "code",
   "execution_count": 6,
   "metadata": {},
   "outputs": [
    {
     "data": {
      "text/html": [
       "<div>\n",
       "<style scoped>\n",
       "    .dataframe tbody tr th:only-of-type {\n",
       "        vertical-align: middle;\n",
       "    }\n",
       "\n",
       "    .dataframe tbody tr th {\n",
       "        vertical-align: top;\n",
       "    }\n",
       "\n",
       "    .dataframe thead th {\n",
       "        text-align: right;\n",
       "    }\n",
       "</style>\n",
       "<table border=\"1\" class=\"dataframe\">\n",
       "  <thead>\n",
       "    <tr style=\"text-align: right;\">\n",
       "      <th></th>\n",
       "      <th>filename</th>\n",
       "      <th>path</th>\n",
       "      <th>type</th>\n",
       "      <th>disease</th>\n",
       "      <th>pat_id</th>\n",
       "      <th>img_id</th>\n",
       "      <th>filetype</th>\n",
       "    </tr>\n",
       "  </thead>\n",
       "  <tbody>\n",
       "    <tr>\n",
       "      <th>83664</th>\n",
       "      <td>CNV-1016042-1.jpeg</td>\n",
       "      <td>/OCT2017/test/CNV</td>\n",
       "      <td>test</td>\n",
       "      <td>CNV</td>\n",
       "      <td>1016042</td>\n",
       "      <td>1</td>\n",
       "      <td>jpeg</td>\n",
       "    </tr>\n",
       "    <tr>\n",
       "      <th>83551</th>\n",
       "      <td>CNV-1016042-2.jpeg</td>\n",
       "      <td>/OCT2017/test/CNV</td>\n",
       "      <td>test</td>\n",
       "      <td>CNV</td>\n",
       "      <td>1016042</td>\n",
       "      <td>2</td>\n",
       "      <td>jpeg</td>\n",
       "    </tr>\n",
       "    <tr>\n",
       "      <th>83601</th>\n",
       "      <td>CNV-1016042-3.jpeg</td>\n",
       "      <td>/OCT2017/test/CNV</td>\n",
       "      <td>test</td>\n",
       "      <td>CNV</td>\n",
       "      <td>1016042</td>\n",
       "      <td>3</td>\n",
       "      <td>jpeg</td>\n",
       "    </tr>\n",
       "    <tr>\n",
       "      <th>83501</th>\n",
       "      <td>CNV-1016042-4.jpeg</td>\n",
       "      <td>/OCT2017/test/CNV</td>\n",
       "      <td>test</td>\n",
       "      <td>CNV</td>\n",
       "      <td>1016042</td>\n",
       "      <td>4</td>\n",
       "      <td>jpeg</td>\n",
       "    </tr>\n",
       "    <tr>\n",
       "      <th>83656</th>\n",
       "      <td>CNV-103044-1.jpeg</td>\n",
       "      <td>/OCT2017/test/CNV</td>\n",
       "      <td>test</td>\n",
       "      <td>CNV</td>\n",
       "      <td>103044</td>\n",
       "      <td>1</td>\n",
       "      <td>jpeg</td>\n",
       "    </tr>\n",
       "    <tr>\n",
       "      <th>...</th>\n",
       "      <td>...</td>\n",
       "      <td>...</td>\n",
       "      <td>...</td>\n",
       "      <td>...</td>\n",
       "      <td>...</td>\n",
       "      <td>...</td>\n",
       "      <td>...</td>\n",
       "    </tr>\n",
       "    <tr>\n",
       "      <th>84346</th>\n",
       "      <td>NORMAL-84466-1.jpeg</td>\n",
       "      <td>/OCT2017/test/NORMAL</td>\n",
       "      <td>test</td>\n",
       "      <td>NORMAL</td>\n",
       "      <td>84466</td>\n",
       "      <td>1</td>\n",
       "      <td>jpeg</td>\n",
       "    </tr>\n",
       "    <tr>\n",
       "      <th>84429</th>\n",
       "      <td>NORMAL-85367-1.jpeg</td>\n",
       "      <td>/OCT2017/test/NORMAL</td>\n",
       "      <td>test</td>\n",
       "      <td>NORMAL</td>\n",
       "      <td>85367</td>\n",
       "      <td>1</td>\n",
       "      <td>jpeg</td>\n",
       "    </tr>\n",
       "    <tr>\n",
       "      <th>84368</th>\n",
       "      <td>NORMAL-9053621-1.jpeg</td>\n",
       "      <td>/OCT2017/test/NORMAL</td>\n",
       "      <td>test</td>\n",
       "      <td>NORMAL</td>\n",
       "      <td>9053621</td>\n",
       "      <td>1</td>\n",
       "      <td>jpeg</td>\n",
       "    </tr>\n",
       "    <tr>\n",
       "      <th>84350</th>\n",
       "      <td>NORMAL-9251-1.jpeg</td>\n",
       "      <td>/OCT2017/test/NORMAL</td>\n",
       "      <td>test</td>\n",
       "      <td>NORMAL</td>\n",
       "      <td>9251</td>\n",
       "      <td>1</td>\n",
       "      <td>jpeg</td>\n",
       "    </tr>\n",
       "    <tr>\n",
       "      <th>84398</th>\n",
       "      <td>NORMAL-98720-1.jpeg</td>\n",
       "      <td>/OCT2017/test/NORMAL</td>\n",
       "      <td>test</td>\n",
       "      <td>NORMAL</td>\n",
       "      <td>98720</td>\n",
       "      <td>1</td>\n",
       "      <td>jpeg</td>\n",
       "    </tr>\n",
       "  </tbody>\n",
       "</table>\n",
       "<p>879 rows × 7 columns</p>\n",
       "</div>"
      ],
      "text/plain": [
       "                    filename                  path  type disease   pat_id  \\\n",
       "83664     CNV-1016042-1.jpeg     /OCT2017/test/CNV  test     CNV  1016042   \n",
       "83551     CNV-1016042-2.jpeg     /OCT2017/test/CNV  test     CNV  1016042   \n",
       "83601     CNV-1016042-3.jpeg     /OCT2017/test/CNV  test     CNV  1016042   \n",
       "83501     CNV-1016042-4.jpeg     /OCT2017/test/CNV  test     CNV  1016042   \n",
       "83656      CNV-103044-1.jpeg     /OCT2017/test/CNV  test     CNV   103044   \n",
       "...                      ...                   ...   ...     ...      ...   \n",
       "84346    NORMAL-84466-1.jpeg  /OCT2017/test/NORMAL  test  NORMAL    84466   \n",
       "84429    NORMAL-85367-1.jpeg  /OCT2017/test/NORMAL  test  NORMAL    85367   \n",
       "84368  NORMAL-9053621-1.jpeg  /OCT2017/test/NORMAL  test  NORMAL  9053621   \n",
       "84350     NORMAL-9251-1.jpeg  /OCT2017/test/NORMAL  test  NORMAL     9251   \n",
       "84398    NORMAL-98720-1.jpeg  /OCT2017/test/NORMAL  test  NORMAL    98720   \n",
       "\n",
       "      img_id filetype  \n",
       "83664      1     jpeg  \n",
       "83551      2     jpeg  \n",
       "83601      3     jpeg  \n",
       "83501      4     jpeg  \n",
       "83656      1     jpeg  \n",
       "...      ...      ...  \n",
       "84346      1     jpeg  \n",
       "84429      1     jpeg  \n",
       "84368      1     jpeg  \n",
       "84350      1     jpeg  \n",
       "84398      1     jpeg  \n",
       "\n",
       "[879 rows x 7 columns]"
      ]
     },
     "execution_count": 6,
     "metadata": {},
     "output_type": "execute_result"
    }
   ],
   "source": [
    "duplicate_files = oct_df[oct_df['filename'].duplicated()]\n",
    "duplicate_files = duplicate_files.sort_values(by=['filename'], ascending=True)\n",
    "duplicate_files"
   ]
  },
  {
   "cell_type": "code",
   "execution_count": 7,
   "metadata": {},
   "outputs": [
    {
     "data": {
      "text/plain": [
       "test    879\n",
       "Name: type, dtype: int64"
      ]
     },
     "execution_count": 7,
     "metadata": {},
     "output_type": "execute_result"
    }
   ],
   "source": [
    "duplicate_files['type'].value_counts()"
   ]
  },
  {
   "cell_type": "code",
   "execution_count": 8,
   "metadata": {},
   "outputs": [
    {
     "data": {
      "text/html": [
       "<div>\n",
       "<style scoped>\n",
       "    .dataframe tbody tr th:only-of-type {\n",
       "        vertical-align: middle;\n",
       "    }\n",
       "\n",
       "    .dataframe tbody tr th {\n",
       "        vertical-align: top;\n",
       "    }\n",
       "\n",
       "    .dataframe thead th {\n",
       "        text-align: right;\n",
       "    }\n",
       "</style>\n",
       "<table border=\"1\" class=\"dataframe\">\n",
       "  <thead>\n",
       "    <tr style=\"text-align: right;\">\n",
       "      <th></th>\n",
       "      <th>filename</th>\n",
       "      <th>path</th>\n",
       "      <th>type</th>\n",
       "      <th>disease</th>\n",
       "      <th>pat_id</th>\n",
       "      <th>img_id</th>\n",
       "      <th>filetype</th>\n",
       "    </tr>\n",
       "  </thead>\n",
       "  <tbody>\n",
       "    <tr>\n",
       "      <th>26516</th>\n",
       "      <td>CNV-1016042-1.jpeg</td>\n",
       "      <td>/OCT2017/train/CNV</td>\n",
       "      <td>train</td>\n",
       "      <td>CNV</td>\n",
       "      <td>1016042</td>\n",
       "      <td>1</td>\n",
       "      <td>jpeg</td>\n",
       "    </tr>\n",
       "    <tr>\n",
       "      <th>83664</th>\n",
       "      <td>CNV-1016042-1.jpeg</td>\n",
       "      <td>/OCT2017/test/CNV</td>\n",
       "      <td>test</td>\n",
       "      <td>CNV</td>\n",
       "      <td>1016042</td>\n",
       "      <td>1</td>\n",
       "      <td>jpeg</td>\n",
       "    </tr>\n",
       "  </tbody>\n",
       "</table>\n",
       "</div>"
      ],
      "text/plain": [
       "                 filename                path   type disease   pat_id img_id  \\\n",
       "26516  CNV-1016042-1.jpeg  /OCT2017/train/CNV  train     CNV  1016042      1   \n",
       "83664  CNV-1016042-1.jpeg   /OCT2017/test/CNV   test     CNV  1016042      1   \n",
       "\n",
       "      filetype  \n",
       "26516     jpeg  \n",
       "83664     jpeg  "
      ]
     },
     "execution_count": 8,
     "metadata": {},
     "output_type": "execute_result"
    }
   ],
   "source": [
    "oct_df[oct_df.filename == 'CNV-1016042-1.jpeg']"
   ]
  },
  {
   "cell_type": "markdown",
   "metadata": {},
   "source": [
    "🔥 All duplicate files are replicated in both test and train directories. With the Pandas `duplicated()` method, we mark all items as duplicates except for the first occurrence. Since we traverse training directories first in the dataframe creation, all files in the test directory are marked as duplicates.\n",
    "- 🔑 Potential Solution: Combine all training and test data and conduct a shuffle and (re)split of the data into a training, validation, and test set of images."
   ]
  },
  {
   "cell_type": "markdown",
   "metadata": {},
   "source": [
    "Testing if files have metadata associated with them"
   ]
  },
  {
   "cell_type": "code",
   "execution_count": 9,
   "metadata": {},
   "outputs": [
    {
     "name": "stdout",
     "output_type": "stream",
     "text": [
      "{}\n"
     ]
    }
   ],
   "source": [
    "with open(os.path.join(BASE_DATA_PATH, 'train', 'CNV', 'CNV-1016042-1.jpeg'), 'rb') as i:\n",
    "    img = Image(i)\n",
    "\n",
    "print(img.get_all())"
   ]
  },
  {
   "cell_type": "markdown",
   "metadata": {},
   "source": [
    "Using free and online tools, some metadata does exist:\n",
    "- image width: 768\n",
    "- image heigh: 496"
   ]
  },
  {
   "cell_type": "markdown",
   "metadata": {},
   "source": [
    "## Get Patient ID Counts"
   ]
  },
  {
   "cell_type": "code",
   "execution_count": 10,
   "metadata": {},
   "outputs": [
    {
     "data": {
      "text/html": [
       "<div>\n",
       "<style scoped>\n",
       "    .dataframe tbody tr th:only-of-type {\n",
       "        vertical-align: middle;\n",
       "    }\n",
       "\n",
       "    .dataframe tbody tr th {\n",
       "        vertical-align: top;\n",
       "    }\n",
       "\n",
       "    .dataframe thead th {\n",
       "        text-align: right;\n",
       "    }\n",
       "</style>\n",
       "<table border=\"1\" class=\"dataframe\">\n",
       "  <thead>\n",
       "    <tr style=\"text-align: right;\">\n",
       "      <th></th>\n",
       "      <th>pat_id</th>\n",
       "      <th>instance_count</th>\n",
       "    </tr>\n",
       "  </thead>\n",
       "  <tbody>\n",
       "    <tr>\n",
       "      <th>0</th>\n",
       "      <td>1001666</td>\n",
       "      <td>10</td>\n",
       "    </tr>\n",
       "    <tr>\n",
       "      <th>1</th>\n",
       "      <td>1001772</td>\n",
       "      <td>10</td>\n",
       "    </tr>\n",
       "    <tr>\n",
       "      <th>2</th>\n",
       "      <td>1004480</td>\n",
       "      <td>14</td>\n",
       "    </tr>\n",
       "    <tr>\n",
       "      <th>3</th>\n",
       "      <td>100580</td>\n",
       "      <td>8</td>\n",
       "    </tr>\n",
       "    <tr>\n",
       "      <th>4</th>\n",
       "      <td>1007507</td>\n",
       "      <td>2</td>\n",
       "    </tr>\n",
       "    <tr>\n",
       "      <th>...</th>\n",
       "      <td>...</td>\n",
       "      <td>...</td>\n",
       "    </tr>\n",
       "    <tr>\n",
       "      <th>4652</th>\n",
       "      <td>997190</td>\n",
       "      <td>16</td>\n",
       "    </tr>\n",
       "    <tr>\n",
       "      <th>4653</th>\n",
       "      <td>9983517</td>\n",
       "      <td>1</td>\n",
       "    </tr>\n",
       "    <tr>\n",
       "      <th>4654</th>\n",
       "      <td>9992052</td>\n",
       "      <td>2</td>\n",
       "    </tr>\n",
       "    <tr>\n",
       "      <th>4655</th>\n",
       "      <td>9997417</td>\n",
       "      <td>10</td>\n",
       "    </tr>\n",
       "    <tr>\n",
       "      <th>4656</th>\n",
       "      <td>9997680</td>\n",
       "      <td>300</td>\n",
       "    </tr>\n",
       "  </tbody>\n",
       "</table>\n",
       "<p>4657 rows × 2 columns</p>\n",
       "</div>"
      ],
      "text/plain": [
       "       pat_id  instance_count\n",
       "0     1001666              10\n",
       "1     1001772              10\n",
       "2     1004480              14\n",
       "3      100580               8\n",
       "4     1007507               2\n",
       "...       ...             ...\n",
       "4652   997190              16\n",
       "4653  9983517               1\n",
       "4654  9992052               2\n",
       "4655  9997417              10\n",
       "4656  9997680             300\n",
       "\n",
       "[4657 rows x 2 columns]"
      ]
     },
     "execution_count": 10,
     "metadata": {},
     "output_type": "execute_result"
    }
   ],
   "source": [
    "pat_df = pd.DataFrame(oct_df.groupby('pat_id').size()).reset_index()\n",
    "pat_df.columns = ['pat_id', 'instance_count']\n",
    "pat_df"
   ]
  },
  {
   "cell_type": "code",
   "execution_count": 18,
   "metadata": {},
   "outputs": [
    {
     "data": {
      "text/plain": [
       "count    4657.000000\n",
       "mean       18.141293\n",
       "std        42.736217\n",
       "min         1.000000\n",
       "25%         4.000000\n",
       "50%         6.000000\n",
       "75%        13.000000\n",
       "max       817.000000\n",
       "Name: instance_count, dtype: float64"
      ]
     },
     "execution_count": 18,
     "metadata": {},
     "output_type": "execute_result"
    }
   ],
   "source": [
    "pat_df['instance_count'].describe()"
   ]
  },
  {
   "cell_type": "code",
   "execution_count": 24,
   "metadata": {},
   "outputs": [
    {
     "data": {
      "image/png": "[encoded data removed]",
      "text/plain": [
       "<Figure size 648x432 with 1 Axes>"
      ]
     },
     "metadata": {
      "needs_background": "light"
     },
     "output_type": "display_data"
    }
   ],
   "source": [
    "fig, ax = plt.subplots(1, figsize=[9, 6])\n",
    "ax = sns.boxplot(data=pat_df, x='instance_count')\n",
    "\n",
    "plt.show()"
   ]
  },
  {
   "cell_type": "code",
   "execution_count": 25,
   "metadata": {},
   "outputs": [
    {
     "data": {
      "image/png": "[encoded data removed]",
      "text/plain": [
       "<Figure size 648x432 with 1 Axes>"
      ]
     },
     "metadata": {
      "needs_background": "light"
     },
     "output_type": "display_data"
    }
   ],
   "source": [
    "fig, ax = plt.subplots(1, figsize=[9, 6])\n",
    "ax = sns.histplot(data=pat_df, x='instance_count', bins=50)\n",
    "ax.set_xlabel('Instance Count')\n",
    "plt.suptitle('Histplot for Patient Image Instances')\n",
    "plt.show()"
   ]
  },
  {
   "cell_type": "markdown",
   "metadata": {},
   "source": [
    "## Report\n",
    "- 84,484 total instances\n",
    "- 83,605 unique instances\n",
    "    - train/CNV contains 37205 files\n",
    "    - train/DME contains 11348 files\n",
    "    - train/DRUSEN contains 8616 files\n",
    "    - train/NORMAL contains 26315 files\n",
    "    - test/CNV contains 250 files\n",
    "    - test/DME contains 250 files\n",
    "    - test/DRUSEN contains 250 files\n",
    "    - test/NORMAL contains 250 files\n",
    "- High standard deviation for number of instances per patient"
   ]
  }
 ],
 "metadata": {
  "interpreter": {
   "hash": "0e5b9dab13b89659b48c974af47f0012c9c0768337cfdf2ee5edc7ec1d29459d"
  },
  "kernelspec": {
   "display_name": "Python 3.9.12 ('capstone')",
   "language": "python",
   "name": "python3"
  },
  "language_info": {
   "codemirror_mode": {
    "name": "ipython",
    "version": 3
   },
   "file_extension": ".py",
   "mimetype": "text/x-python",
   "name": "python",
   "nbconvert_exporter": "python",
   "pygments_lexer": "ipython3",
   "version": "3.9.12"
  },
  "orig_nbformat": 4
 },
 "nbformat": 4,
 "nbformat_minor": 2
}
