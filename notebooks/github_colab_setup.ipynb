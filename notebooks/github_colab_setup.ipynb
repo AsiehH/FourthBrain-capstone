{
  "nbformat": 4,
  "nbformat_minor": 0,
  "metadata": {
    "colab": {
      "name": "github-colab-setup.ipynb",
      "provenance": [],
      "collapsed_sections": []
    },
    "kernelspec": {
      "name": "python3",
      "display_name": "Python 3"
    },
    "language_info": {
      "name": "python"
    }
  },
  "cells": [
    {
      "cell_type": "markdown",
      "source": [
        "This notebook will guide you through integration of github in colab so that you can push upstream as well. "
      ],
      "metadata": {
        "id": "IB7FSajcF8sd"
      }
    },
    {
      "cell_type": "code",
      "execution_count": 1,
      "metadata": {
        "colab": {
          "base_uri": "https://localhost:8080/"
        },
        "id": "XmTOlSfME5Tb",
        "outputId": "fdcaec29-b6f7-416c-eabb-98650c1d8480"
      },
      "outputs": [
        {
          "output_type": "stream",
          "name": "stdout",
          "text": [
            "Drive already mounted at /content/gdrive; to attempt to forcibly remount, call drive.mount(\"/content/gdrive\", force_remount=True).\n"
          ]
        }
      ],
      "source": [
        "from google.colab import drive\n",
        "drive.mount('/content/gdrive')"
      ]
    },
    {
      "cell_type": "code",
      "source": [
        "%%bash\n",
        "cd gdrive/MyDrive/\n",
        "git clone https://github.com/jenningst/fourthbrain-capstone.git"
      ],
      "metadata": {
        "id": "fVvwb5Ksvzx2"
      },
      "execution_count": 29,
      "outputs": []
    },
    {
      "cell_type": "code",
      "source": [
        "%cd /content/gdrive/MyDrive/fourthbrain-capstone/"
      ],
      "metadata": {
        "colab": {
          "base_uri": "https://localhost:8080/"
        },
        "id": "9H7sl8vMFNAs",
        "outputId": "100f37a7-ded4-4fec-8f77-c5761a839b74"
      },
      "execution_count": 29,
      "outputs": [
        {
          "output_type": "stream",
          "name": "stdout",
          "text": [
            "/content/gdrive/MyDrive/fourthbrain-capstone\n"
          ]
        }
      ]
    },
    {
      "cell_type": "markdown",
      "source": [
        "Create `git_secret.py` in your root directory of the repo and add it to your `.gitignore` file. NEVER push credentials to a repo, private or public.\n",
        "\n",
        "You will need to create a Personal Access Token (PAT) if you haven't already. [Here](https://docs.github.com/en/authentication/keeping-your-account-and-data-secure/creating-a-personal-access-token) is how. \n",
        "\n",
        "Your `git_secret.py` file should look like this:\n",
        "\n",
        "```\n",
        "user_name = 'your username'\n",
        "user_email = 'your user email'\n",
        "PAT = 'your github Personl Access Token'\n",
        "```\n",
        "\n"
      ],
      "metadata": {
        "id": "1DUcZvaOx-Kj"
      }
    },
    {
      "cell_type": "code",
      "source": [
        "!pwd"
      ],
      "metadata": {
        "id": "oM67vle210ie"
      },
      "execution_count": 28,
      "outputs": []
    },
    {
      "cell_type": "markdown",
      "source": [
        "Expected output:\n",
        "\n",
        "`/content/gdrive/MyDrive/fourthbrain-capstone`"
      ],
      "metadata": {
        "id": "edJtL4aDGzOG"
      }
    },
    {
      "cell_type": "code",
      "source": [
        "repo_root_path = '/content/gdrive/MyDrive/fourthbrain-capstone'\n",
        "import sys\n",
        "sys.path.append(repo_root_path) \n",
        "import git_secret\n",
        "\n",
        "user_name = git_secret.user_name\n",
        "user_email = git_secret.user_email\n",
        "PAT = git_secret.PAT"
      ],
      "metadata": {
        "id": "YTOEnEgt4pzw"
      },
      "execution_count": 10,
      "outputs": []
    },
    {
      "cell_type": "code",
      "source": [
        "# configure git username and email\n",
        "!git config --global user.name $user_name\n",
        "!git config --global user.email $user_email"
      ],
      "metadata": {
        "id": "3yMUte8U-tHN"
      },
      "execution_count": 69,
      "outputs": []
    },
    {
      "cell_type": "code",
      "source": [
        "!git remote -v"
      ],
      "metadata": {
        "id": "srkWjQeypifi"
      },
      "execution_count": 26,
      "outputs": []
    },
    {
      "cell_type": "markdown",
      "source": [
        "Expected output:\n",
        "```\n",
        "origin\thttps://github.com/jenningst/fourthbrain-capstone.git (fetch)\n",
        "origin\thttps://github.com/jenningst/fourthbrain-capstone.git (push)\n",
        "```"
      ],
      "metadata": {
        "id": "K4iq9z2NGktx"
      }
    },
    {
      "cell_type": "code",
      "source": [
        "# Remove previous git origin\n",
        "!git remote remove origin"
      ],
      "metadata": {
        "id": "DdP-M6eaqfeR"
      },
      "execution_count": 71,
      "outputs": []
    },
    {
      "cell_type": "code",
      "source": [
        "#Add new origin with PAT (<Token>) :\n",
        "#git remote add origin https://<TOKEN>@github.com/<USERNAME>/<REPO>.git\n",
        "!git remote add origin https://$PAT@github.com/jenningst/fourthbrain-capstone.git\n"
      ],
      "metadata": {
        "id": "aMpLcNhn85zf"
      },
      "execution_count": 74,
      "outputs": []
    },
    {
      "cell_type": "markdown",
      "source": [
        "Push once with –set-upstream\n",
        "\n",
        "`!git push --set-upstream  origin your_branch_name `"
      ],
      "metadata": {
        "id": "CDLrm19wHY3o"
      }
    },
    {
      "cell_type": "code",
      "source": [
        "!git status"
      ],
      "metadata": {
        "colab": {
          "base_uri": "https://localhost:8080/"
        },
        "id": "LJS0tMCRH33l",
        "outputId": "7d2b7026-dd6d-4590-88c2-5397c7bf36e1"
      },
      "execution_count": 30,
      "outputs": [
        {
          "output_type": "stream",
          "name": "stdout",
          "text": [
            "On branch github-colab\n",
            "Changes not staged for commit:\n",
            "  (use \"git add <file>...\" to update what will be committed)\n",
            "  (use \"git checkout -- <file>...\" to discard changes in working directory)\n",
            "\n",
            "\t\u001b[31mmodified:   notebooks/github-colab-setup.ipynb\u001b[m\n",
            "\n",
            "Untracked files:\n",
            "  (use \"git add <file>...\" to include in what will be committed)\n",
            "\n",
            "\t\u001b[31mgit_secret.py\u001b[m\n",
            "\t\u001b[31msrc/__init__.py\u001b[m\n",
            "\t\u001b[31mtests/test_assert.py\u001b[m\n",
            "\n",
            "no changes added to commit (use \"git add\" and/or \"git commit -a\")\n"
          ]
        }
      ]
    },
    {
      "cell_type": "code",
      "source": [
        ""
      ],
      "metadata": {
        "id": "nfAaKNb0H5LK"
      },
      "execution_count": null,
      "outputs": []
    }
  ]
}